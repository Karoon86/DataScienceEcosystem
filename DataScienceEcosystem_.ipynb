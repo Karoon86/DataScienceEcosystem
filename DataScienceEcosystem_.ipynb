{
  "nbformat": 4,
  "nbformat_minor": 0,
  "metadata": {
    "colab": {
      "provenance": []
    },
    "kernelspec": {
      "name": "python3",
      "display_name": "Python 3"
    },
    "language_info": {
      "name": "python"
    }
  },
  "cells": [
    {
      "cell_type": "markdown",
      "source": [
        "##My Nootbook"
      ],
      "metadata": {
        "id": "Fuq3Tjsh2JXw"
      }
    },
    {
      "cell_type": "markdown",
      "source": [
        "#Data Science Tools and Ecosystem"
      ],
      "metadata": {
        "id": "BHJQIzMV-0Mg"
      }
    },
    {
      "cell_type": "markdown",
      "source": [
        "##Introduction:\n",
        "In this notebook, Data Science Tools and Ecosystem are summarized."
      ],
      "metadata": {
        "id": "uzMNEKzy2Zy-"
      }
    },
    {
      "cell_type": "markdown",
      "source": [
        "#Objectives:\n",
        "\n",
        "In this notebook, we will:\n",
        "\n",
        "\n",
        "*Data Science Libraries.\n",
        "\n",
        "*Convert minutes to hours using code.\n",
        "\n",
        "*Multiplying and adding numbers in Python.\n",
        "\n",
        "*Data Science Tools."
      ],
      "metadata": {
        "id": "wB96EjcKE69U"
      }
    },
    {
      "cell_type": "markdown",
      "source": [
        "###Data Science Languages:\n",
        "Some of the popular languages that Data Scientists use are:\n",
        "\n",
        "Python,  R, SQL, Java, Scala, Matlab, Julia.\n",
        "\n"
      ],
      "metadata": {
        "id": "2iS3v1oX2l2n"
      }
    },
    {
      "cell_type": "markdown",
      "source": [
        "###Data Science Libraries:\n",
        "some of the commonly used data science libraries:\n",
        "\n",
        "Python:\n",
        "NumPy, Pandas, Matplotlib, Seaborn, Scikit-learn, TensorFlow, PyTorch\n",
        "\n",
        "R:\n",
        "tidyverse (including ggplot2, dplyr, etc.), caret.\n",
        "\n",
        "General:\n",
        "Apache Spark, Apache Hadoop, Apache Kafka, Tableau, Power BI\n"
      ],
      "metadata": {
        "id": "RXyjRlt83PTw"
      }
    },
    {
      "cell_type": "markdown",
      "source": [
        "###Data Science Tools:\n"
      ],
      "metadata": {
        "id": "6jk0WWY44cJ0"
      }
    },
    {
      "cell_type": "code",
      "source": [
        "from tabulate import tabulate\n",
        "data = [['Tool', 'Description'],\n",
        "       ['Jupyter Notebook', 'Interactive web-based environment for data analysis and visualization'],\n",
        "       ['RStudio', 'Integrated development environment (IDE) for R programming language'],\n",
        "       ['Apache Spark', 'Unified analytics engine for large-scale data processing'],\n",
        "       ['Hadoop', 'Open-source framework for distributed storage and processing of large datasets'],\n",
        "       ['Tableau', 'Data visualization and business intelligence software'],\n",
        "       ]\n",
        "\n",
        "print(tabulate(data, headers='firstrow', tablefmt=\"grid\"))"
      ],
      "metadata": {
        "colab": {
          "base_uri": "https://localhost:8080/"
        },
        "id": "p-zHqt6m4xQ4",
        "outputId": "b1daabe1-5982-47f0-ad18-faba3b8af52d"
      },
      "execution_count": 10,
      "outputs": [
        {
          "output_type": "stream",
          "name": "stdout",
          "text": [
            "+------------------+--------------------------------------------------------------------------------+\n",
            "| Tool             | Description                                                                    |\n",
            "+==================+================================================================================+\n",
            "| Jupyter Notebook | Interactive web-based environment for data analysis and visualization          |\n",
            "+------------------+--------------------------------------------------------------------------------+\n",
            "| RStudio          | Integrated development environment (IDE) for R programming language            |\n",
            "+------------------+--------------------------------------------------------------------------------+\n",
            "| Apache Spark     | Unified analytics engine for large-scale data processing                       |\n",
            "+------------------+--------------------------------------------------------------------------------+\n",
            "| Hadoop           | Open-source framework for distributed storage and processing of large datasets |\n",
            "+------------------+--------------------------------------------------------------------------------+\n",
            "| Tableau          | Data visualization and business intelligence software                          |\n",
            "+------------------+--------------------------------------------------------------------------------+\n"
          ]
        }
      ]
    },
    {
      "cell_type": "markdown",
      "source": [
        "###Arithmetic Expression Examples:\n",
        "we will explore some basic arithmetic expressions and their results. Arithmetic expressions involve the use of numerical values and mathematical operators to perform calculations.\n",
        "\n",
        "For example: Addition, Subtraction, Multiplication, Division,..."
      ],
      "metadata": {
        "id": "h5LISbGO5VVQ"
      }
    },
    {
      "cell_type": "markdown",
      "source": [
        "###multiplying and adding numbers in Python:\n"
      ],
      "metadata": {
        "id": "rLQjlr9o5pJV"
      }
    },
    {
      "cell_type": "code",
      "source": [
        "# Multiplication\n",
        "a = 5\n",
        "b = 7\n",
        "c = a * b\n",
        "print(c)\n",
        "# Addition\n",
        "x = 10\n",
        "y = 15\n",
        "z= x + y\n",
        "print(z)"
      ],
      "metadata": {
        "colab": {
          "base_uri": "https://localhost:8080/"
        },
        "id": "rX-bRUGP5rB8",
        "outputId": "ecf59d26-ea29-43a1-f65b-e270d487cf1b"
      },
      "execution_count": 13,
      "outputs": [
        {
          "output_type": "stream",
          "name": "stdout",
          "text": [
            "35\n",
            "25\n"
          ]
        }
      ]
    },
    {
      "cell_type": "markdown",
      "source": [
        "###convert minutes to hours"
      ],
      "metadata": {
        "id": "MVmz5WkqEdYh"
      }
    },
    {
      "cell_type": "code",
      "source": [
        "\n",
        "#  This will convert 200 minutes to hours by diving by 60\n",
        "minutes = 200\n",
        "hours = minutes // 60\n",
        "remaining_minutes = minutes % 60\n",
        "\n",
        "print(f\"{minutes} minutes is equal to {hours} hours and {remaining_minutes} minutes.\")"
      ],
      "metadata": {
        "colab": {
          "base_uri": "https://localhost:8080/"
        },
        "id": "sQEwuaV96Sfx",
        "outputId": "5f953017-5cf9-4c43-cf58-0627cb0c9f70"
      },
      "execution_count": 15,
      "outputs": [
        {
          "output_type": "stream",
          "name": "stdout",
          "text": [
            "200 minutes is equal to 3 hours and 20 minutes.\n"
          ]
        }
      ]
    },
    {
      "cell_type": "markdown",
      "source": [
        "##Author:\n",
        "\n",
        "This notebook was created by **Maya**."
      ],
      "metadata": {
        "id": "lCIuDi3t7EXR"
      }
    }
  ]
}